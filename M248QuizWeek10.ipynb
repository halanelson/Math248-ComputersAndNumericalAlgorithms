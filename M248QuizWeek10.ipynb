{
 "cells": [
  {
   "cell_type": "markdown",
   "metadata": {
    "deletable": false,
    "editable": false,
    "nbgrader": {
     "cell_type": "markdown",
     "checksum": "279bf8c8b160f3feb3312d6944ac155e",
     "grade": false,
     "grade_id": "cell-ec481b70e6b60018",
     "locked": true,
     "schema_version": 3,
     "solution": false,
     "task": false
    }
   },
   "source": [
    "# List TEN things you learned in week 10 and fIVE things you still do not understand well or curious to learn more about."
   ]
  },
  {
   "cell_type": "markdown",
   "metadata": {
    "deletable": false,
    "nbgrader": {
     "cell_type": "markdown",
     "checksum": "886f87c314e11d1dc88b3eaacc62e9c5",
     "grade": true,
     "grade_id": "cell-0e7266785433b246",
     "locked": false,
     "points": 0,
     "schema_version": 3,
     "solution": true,
     "task": false
    }
   },
   "source": [
    "YOUR ANSWER HERE"
   ]
  },
  {
   "cell_type": "markdown",
   "metadata": {
    "deletable": false,
    "editable": false,
    "nbgrader": {
     "cell_type": "markdown",
     "checksum": "245e3a1043cff7176f9f62901d17c781",
     "grade": false,
     "grade_id": "cell-74a67656ee05fb46",
     "locked": true,
     "schema_version": 3,
     "solution": false,
     "task": false
    }
   },
   "source": [
    "# List more than one real life (science, engineering, natural world, etc.) application of the fixed point iteration."
   ]
  },
  {
   "cell_type": "markdown",
   "metadata": {
    "deletable": false,
    "nbgrader": {
     "cell_type": "markdown",
     "checksum": "bc3fbe80fa79811ce9fda4f35c7d5463",
     "grade": true,
     "grade_id": "cell-10a720a1d9842dfc",
     "locked": false,
     "points": 0,
     "schema_version": 3,
     "solution": true,
     "task": false
    }
   },
   "source": [
    "YOUR ANSWER HERE"
   ]
  },
  {
   "cell_type": "markdown",
   "metadata": {
    "deletable": false,
    "editable": false,
    "nbgrader": {
     "cell_type": "markdown",
     "checksum": "65d3e44fc05cedb21986196f78410600",
     "grade": false,
     "grade_id": "cell-9aab394c09a947d1",
     "locked": true,
     "schema_version": 3,
     "solution": false,
     "task": false
    }
   },
   "source": [
    "## Babylonian method for finding the square root: The goal of this problem is to approximate the value of $\\sqrt{3}$ using an FPI.\n",
    "\n",
    "Consider an FPI with generating function $$f(x)=\\frac{1}{2}\\left(\\frac{3}{x}+x\\right)$$\n",
    "\n",
    "1.  Find the fixed point(s) of $f$ analytically.\n",
    "2. Plot a graph that shows the location of the fixed point(s) graphically. What is their approximate numerical value (from the graph)?\n",
    "3. Prove analytically that if we start with any $x_0>0$, the FPI will converge to a fixed point (Hint: use the FPI theorem).\n",
    "4. Write a program that verifies the result in part 3 and deduce the approximate value of $\\sqrt{3}$ from your program.  "
   ]
  },
  {
   "cell_type": "markdown",
   "metadata": {
    "deletable": false,
    "nbgrader": {
     "cell_type": "markdown",
     "checksum": "eb6f3c3737c7b86005827f29a46de43f",
     "grade": true,
     "grade_id": "cell-4837e5377e7bb804",
     "locked": false,
     "points": 0,
     "schema_version": 3,
     "solution": true,
     "task": false
    }
   },
   "source": [
    "YOUR ANSWER HERE"
   ]
  },
  {
   "cell_type": "code",
   "execution_count": null,
   "metadata": {
    "deletable": false,
    "nbgrader": {
     "cell_type": "code",
     "checksum": "a09a00f9d1b7b08bec33158c59ca871a",
     "grade": true,
     "grade_id": "cell-f96e129df82856dd",
     "locked": false,
     "points": 0,
     "schema_version": 3,
     "solution": true,
     "task": false
    }
   },
   "outputs": [],
   "source": [
    "# YOUR CODE HERE\n",
    "raise NotImplementedError()"
   ]
  },
  {
   "cell_type": "markdown",
   "metadata": {
    "deletable": false,
    "editable": false,
    "nbgrader": {
     "cell_type": "markdown",
     "checksum": "1939edd57e41f47f782b76ee2a2dd3aa",
     "grade": false,
     "grade_id": "cell-336c9c5d155f64d4",
     "locked": true,
     "schema_version": 3,
     "solution": false,
     "task": false
    }
   },
   "source": [
    "## Consider the discrete logistic equation with a parameter $\\alpha>0$: \n",
    "\n",
    "$$x_{n+1}=\\alpha x_n(1-x_n)$$ \n",
    "\n",
    "0. What are some real life applications of the logisitic equation?\n",
    "1. Calculate the fixed point(s) analytically.\n",
    "2. Verify your result from part (a) graphically (for some choice of $\\alpha$). Use Python to plot and label the graph.\n",
    "3. Calculate the ranges of values for $\\alpha$ under which the FPI converges (consider each fixed point separately ans see the iPad lecture notes for help).\n",
    "4. (This belongs to the programming section) Verify your results from part (c) numerically.\n",
    "5. (This belongs to the programming section) Do a numerical experiment to estimate the value of $\\alpha$ that marks the onset of chaos. Show results for all your numerical experimentation (different values of $\\alpha$, different starting points, each in its own subplot and appropriate titles and labels etc.)"
   ]
  },
  {
   "cell_type": "markdown",
   "metadata": {
    "deletable": false,
    "nbgrader": {
     "cell_type": "markdown",
     "checksum": "30096fe61c018b3a91c3a4d677e87874",
     "grade": true,
     "grade_id": "cell-2c9cb9e6df6ad351",
     "locked": false,
     "points": 0,
     "schema_version": 3,
     "solution": true,
     "task": false
    }
   },
   "source": [
    "YOUR ANSWER HERE"
   ]
  },
  {
   "cell_type": "code",
   "execution_count": null,
   "metadata": {
    "deletable": false,
    "nbgrader": {
     "cell_type": "code",
     "checksum": "bbca81c496f914f48aed21b100727b05",
     "grade": true,
     "grade_id": "cell-c1a657016a05776c",
     "locked": false,
     "points": 0,
     "schema_version": 3,
     "solution": true,
     "task": false
    }
   },
   "outputs": [],
   "source": [
    "# YOUR CODE HERE\n",
    "raise NotImplementedError()"
   ]
  }
 ],
 "metadata": {
  "kernelspec": {
   "display_name": "Python 3 (ipykernel)",
   "language": "python",
   "name": "python3"
  },
  "language_info": {
   "codemirror_mode": {
    "name": "ipython",
    "version": 3
   },
   "file_extension": ".py",
   "mimetype": "text/x-python",
   "name": "python",
   "nbconvert_exporter": "python",
   "pygments_lexer": "ipython3",
   "version": "3.9.12"
  }
 },
 "nbformat": 4,
 "nbformat_minor": 4
}
