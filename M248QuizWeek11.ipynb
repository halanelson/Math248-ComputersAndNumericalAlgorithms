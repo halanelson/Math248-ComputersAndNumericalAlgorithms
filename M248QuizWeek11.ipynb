{
 "cells": [
  {
   "cell_type": "markdown",
   "metadata": {
    "deletable": false,
    "editable": false,
    "nbgrader": {
     "cell_type": "markdown",
     "checksum": "17c8c7280a5d0ffb6739c1b048fd9e3f",
     "grade": false,
     "grade_id": "cell-a7707f4ad42f0bb3",
     "locked": true,
     "schema_version": 3,
     "solution": false,
     "task": false
    }
   },
   "source": [
    "# List 10 things you learned this week AND 5 things you still do not understand very well and would like to learn more about."
   ]
  },
  {
   "cell_type": "markdown",
   "metadata": {
    "deletable": false,
    "nbgrader": {
     "cell_type": "markdown",
     "checksum": "abfdf90b347583085537c961f253d310",
     "grade": true,
     "grade_id": "cell-d760272f5f43dbb7",
     "locked": false,
     "points": 0,
     "schema_version": 3,
     "solution": true,
     "task": false
    }
   },
   "source": [
    "YOUR ANSWER HERE"
   ]
  },
  {
   "cell_type": "markdown",
   "metadata": {
    "deletable": false,
    "editable": false,
    "nbgrader": {
     "cell_type": "markdown",
     "checksum": "7be83d2f2f0abbc141a51add01408179",
     "grade": false,
     "grade_id": "cell-4d6a68a6650ee008",
     "locked": true,
     "schema_version": 3,
     "solution": false,
     "task": false
    }
   },
   "source": [
    "# Research: Can Newton's method be extended to higher dimensions? Explain."
   ]
  },
  {
   "cell_type": "markdown",
   "metadata": {
    "deletable": false,
    "nbgrader": {
     "cell_type": "markdown",
     "checksum": "2caa72f2b1369e1a035af8015b0721e9",
     "grade": true,
     "grade_id": "cell-e75af7b62215a96a",
     "locked": false,
     "points": 0,
     "schema_version": 3,
     "solution": true,
     "task": false
    }
   },
   "source": [
    "YOUR ANSWER HERE"
   ]
  },
  {
   "cell_type": "markdown",
   "metadata": {
    "deletable": false,
    "editable": false,
    "nbgrader": {
     "cell_type": "markdown",
     "checksum": "fd2889effdbe303df7ad9b5092832e23",
     "grade": false,
     "grade_id": "cell-f912d506c70808d4",
     "locked": true,
     "schema_version": 3,
     "solution": false,
     "task": false
    }
   },
   "source": [
    "# Research: There are so many root finding methods out there. Some are more useful or efficient than others, but it all depends on the use case. The interplay is always between accuracy, speed of convergence, and computational cost. List six different root-finding methods and write one sentence describing each."
   ]
  },
  {
   "cell_type": "markdown",
   "metadata": {
    "deletable": false,
    "nbgrader": {
     "cell_type": "markdown",
     "checksum": "2fbfcd75f92db8ae56fb00c16faf5944",
     "grade": true,
     "grade_id": "cell-c700a79cb4fa0b01",
     "locked": false,
     "points": 0,
     "schema_version": 3,
     "solution": true,
     "task": false
    }
   },
   "source": [
    "YOUR ANSWER HERE"
   ]
  },
  {
   "cell_type": "markdown",
   "metadata": {
    "deletable": false,
    "editable": false,
    "nbgrader": {
     "cell_type": "markdown",
     "checksum": "1de4929bf4549c4026971a9c3a5817a2",
     "grade": false,
     "grade_id": "cell-abf976620cc2d50b",
     "locked": true,
     "schema_version": 3,
     "solution": false,
     "task": false
    }
   },
   "source": [
    "# Explain the difference between an analytical solution, a graphical solution, and a numerical solution to a given problem. Comment on the strengths and weaknesses of each."
   ]
  },
  {
   "cell_type": "markdown",
   "metadata": {
    "deletable": false,
    "nbgrader": {
     "cell_type": "markdown",
     "checksum": "7d0d4eba345381aa746d5ca721bd8126",
     "grade": true,
     "grade_id": "cell-ccbf150066abd6d7",
     "locked": false,
     "points": 0,
     "schema_version": 3,
     "solution": true,
     "task": false
    }
   },
   "source": [
    "YOUR ANSWER HERE"
   ]
  },
  {
   "cell_type": "markdown",
   "metadata": {
    "deletable": false,
    "editable": false,
    "nbgrader": {
     "cell_type": "markdown",
     "checksum": "f4b01f998ae47f592219b104c083a61b",
     "grade": false,
     "grade_id": "cell-ed753b43cf135756",
     "locked": true,
     "schema_version": 3,
     "solution": false,
     "task": false
    }
   },
   "source": [
    "# Write a program that approximates $\\sqrt{7}$ numerically using Secant's method applied to an appropriate function (what easy continuous function $f(x)$ has root equal to $\\sqrt{7}$?). Your program should output the sequence produced by the secant method as well as two graphs showing the function and the convergence of the sequence on the x-axis. "
   ]
  },
  {
   "cell_type": "code",
   "execution_count": null,
   "metadata": {
    "deletable": false,
    "nbgrader": {
     "cell_type": "code",
     "checksum": "fd473f7c50a038967f66eb2c14ad94a5",
     "grade": true,
     "grade_id": "cell-ad2f4b013356f58c",
     "locked": false,
     "points": 0,
     "schema_version": 3,
     "solution": true,
     "task": false
    }
   },
   "outputs": [],
   "source": [
    "# YOUR CODE HERE\n",
    "raise NotImplementedError()"
   ]
  }
 ],
 "metadata": {
  "kernelspec": {
   "display_name": "Python 3 (ipykernel)",
   "language": "python",
   "name": "python3"
  },
  "language_info": {
   "codemirror_mode": {
    "name": "ipython",
    "version": 3
   },
   "file_extension": ".py",
   "mimetype": "text/x-python",
   "name": "python",
   "nbconvert_exporter": "python",
   "pygments_lexer": "ipython3",
   "version": "3.9.12"
  }
 },
 "nbformat": 4,
 "nbformat_minor": 4
}
