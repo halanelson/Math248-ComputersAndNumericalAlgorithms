{
 "cells": [
  {
   "cell_type": "markdown",
   "metadata": {
    "deletable": false,
    "editable": false,
    "nbgrader": {
     "cell_type": "markdown",
     "checksum": "5ae641a1814877054617d4caca725502",
     "grade": false,
     "grade_id": "cell-6e07cd1dcc83f6b0",
     "locked": true,
     "schema_version": 3,
     "solution": false,
     "task": false
    }
   },
   "source": [
    "# List and explain TEN things you learned in Week 6 and FIVE things you still don't understand well and/or would like to learn more about."
   ]
  },
  {
   "cell_type": "markdown",
   "metadata": {
    "deletable": false,
    "nbgrader": {
     "cell_type": "markdown",
     "checksum": "9a7a74fd0a9eb0dfdc4d36b043ffba7a",
     "grade": true,
     "grade_id": "cell-63410b67693df8b2",
     "locked": false,
     "points": 0,
     "schema_version": 3,
     "solution": true,
     "task": false
    }
   },
   "source": [
    "YOUR ANSWER HERE"
   ]
  },
  {
   "cell_type": "markdown",
   "metadata": {
    "deletable": false,
    "editable": false,
    "nbgrader": {
     "cell_type": "markdown",
     "checksum": "7d0b985accc0aa79e55a2eaac61ac189",
     "grade": false,
     "grade_id": "cell-c6e1e248dbdb3f86",
     "locked": true,
     "schema_version": 3,
     "solution": false,
     "task": false
    }
   },
   "source": [
    "# Simple algorithm for finding the eigenvector corresponding to the largest eigenvalue for a symmetric matrix. This algorithm starts with a random unit vector and keeps applying A until the resulting vector stops changing. At each step, divide by the length of the obtained vector so you stay in the realm of unit vectors and so that the length of your vectors does not grow too large with each subsequent multiplication by A.\n",
    "\n",
    "This algorithm catches only one eigenvector, in the direction that gets stretched the most, but not the other eigenvectors:\n",
    "\n",
    "Consider the matrix $A=\\begin{pmatrix}1&2\\\\2&-3\\end{pmatrix}$\n",
    "\n",
    "1. Start at a random unit vector $v_0$ (make sure your vector has length $1$). \n",
    "2. Multiply by $A$: $v_{i+1}=Av_i$\n",
    "3. Divide by the length of $v_{i+1}$ to avoid the size of your vectors growing too large with all the multiplications by $A$.\n",
    "3. Stop when you converge (you can run this for like 20 times and see if the vector is changing or not).\n",
    "4. Make a plot that shows the subsequent transformations of your vector until you converge.\n",
    "\n",
    "The above iterative method is very simple but has a drawback: It only finds one eigenvector of the matrix, the eigenvector corresponding to its largest eigenvalue. So it finds the direction that gets stretched the most when you apply $A$.\n",
    "\n",
    "In general, Python uses the $QR$ decomposition of a matrix to compute its full eigenvector decomposition. Recall that to compute the SVD we must find the eigenvectors and eigenvalues of $A^tA$ and $AA^t$. "
   ]
  },
  {
   "cell_type": "code",
   "execution_count": null,
   "metadata": {
    "deletable": false,
    "nbgrader": {
     "cell_type": "code",
     "checksum": "3147544b740dff9d14aab4707c23b083",
     "grade": true,
     "grade_id": "cell-6bb11c92b2087275",
     "locked": false,
     "points": 0,
     "schema_version": 3,
     "solution": true,
     "task": false
    }
   },
   "outputs": [],
   "source": [
    "# YOUR CODE HERE\n",
    "raise NotImplementedError()"
   ]
  },
  {
   "cell_type": "markdown",
   "metadata": {
    "deletable": false,
    "editable": false,
    "nbgrader": {
     "cell_type": "markdown",
     "checksum": "8c5e2bdffbce143de9bcb2265be7c8e6",
     "grade": false,
     "grade_id": "cell-618c8bb61d0ef095",
     "locked": true,
     "schema_version": 3,
     "solution": false,
     "task": false
    }
   },
   "source": [
    "# In Video 3 for this week we talked about the following matrix which is diagonalizble $A=PDP^{-1}$:\n",
    "\n",
    "$$A=\\begin{pmatrix}2&2\\\\3&7\\end{pmatrix}=PDP^{-1}=\\begin{pmatrix}-2&1\\\\1&3\\end{pmatrix}\\begin{pmatrix}1&0\\\\0&8\\end{pmatrix}\\begin{pmatrix}\\frac{-3}{7}&\\frac{1}{7}\\\\\\frac{1}{7}&\\frac{2}{7}\\end{pmatrix}$$\n",
    "\n",
    "1. Use the above algorithm to find the eigen vector corresponding to the largest eigenvalue of A.\n",
    "2. Verify that the largest eigenvalue is indeed 8.\n",
    "3. Plot the eigen vector $\\begin{pmatrix}1\\\\3\\end{pmatrix}$ corresponding to the largest eigenvalue on the same plot you produced for the iteration. Verify that is lies along the same eigen-direction that you discovered. \n",
    "4. Write a program that computes and prints the singular value decomposition of $A=U\\Sigma V^t$ and verify that this is different than the diagonalization of A given above. Can you explain why these two are different?\n"
   ]
  },
  {
   "cell_type": "code",
   "execution_count": null,
   "metadata": {
    "deletable": false,
    "nbgrader": {
     "cell_type": "code",
     "checksum": "1302797c9c9ca8bfd11b881f152105f2",
     "grade": true,
     "grade_id": "cell-c7e24648af8f0683",
     "locked": false,
     "points": 0,
     "schema_version": 3,
     "solution": true,
     "task": false
    }
   },
   "outputs": [],
   "source": [
    "# YOUR CODE HERE\n",
    "raise NotImplementedError()"
   ]
  },
  {
   "cell_type": "markdown",
   "metadata": {
    "deletable": false,
    "nbgrader": {
     "cell_type": "markdown",
     "checksum": "9b1041a11a1223b49d135402d991a779",
     "grade": true,
     "grade_id": "cell-e5b586890e4dd327",
     "locked": false,
     "points": 0,
     "schema_version": 3,
     "solution": true,
     "task": false
    }
   },
   "source": [
    "YOUR ANSWER HERE"
   ]
  },
  {
   "cell_type": "markdown",
   "metadata": {
    "deletable": false,
    "editable": false,
    "nbgrader": {
     "cell_type": "markdown",
     "checksum": "8d93eca33f13abf80bde1ad24e95f833",
     "grade": false,
     "grade_id": "cell-7b3905d15a14d63f",
     "locked": true,
     "schema_version": 3,
     "solution": false,
     "task": false
    }
   },
   "source": [
    "# One of the many important uses of the SVD is that it can be used to 'invert' matrices that do not have an inverse, like singular square matrices or rectangular matrices.\n",
    "\n",
    "1. Use the SVD to find the pseudo-inverse of the rectangular matrix $A=\\begin{pmatrix}1&5\\\\-1&7\\\\13&4\\\\-11&4\\end{pmatrix}$\n",
    "\n",
    "Note that here you are not allowed to use the pseudo-inverse function from the numpy.linalg package. Use instead the formula for the pseudo-inverse given in Week 7 Notebook.\n",
    "\n",
    "2. Compute the condition number of this matrix?"
   ]
  },
  {
   "cell_type": "code",
   "execution_count": null,
   "metadata": {
    "deletable": false,
    "nbgrader": {
     "cell_type": "code",
     "checksum": "8d3e40862b31ddd27919a9d4263e6467",
     "grade": true,
     "grade_id": "cell-e9f88ead38a67bbb",
     "locked": false,
     "points": 0,
     "schema_version": 3,
     "solution": true,
     "task": false
    }
   },
   "outputs": [],
   "source": [
    "# YOUR CODE HERE\n",
    "raise NotImplementedError()"
   ]
  }
 ],
 "metadata": {
  "kernelspec": {
   "display_name": "Python 3 (ipykernel)",
   "language": "python",
   "name": "python3"
  },
  "language_info": {
   "codemirror_mode": {
    "name": "ipython",
    "version": 3
   },
   "file_extension": ".py",
   "mimetype": "text/x-python",
   "name": "python",
   "nbconvert_exporter": "python",
   "pygments_lexer": "ipython3",
   "version": "3.9.12"
  }
 },
 "nbformat": 4,
 "nbformat_minor": 4
}
