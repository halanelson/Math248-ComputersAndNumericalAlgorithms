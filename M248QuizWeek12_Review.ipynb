{
 "cells": [
  {
   "cell_type": "markdown",
   "id": "d3bbcf26",
   "metadata": {
    "deletable": false,
    "editable": false,
    "nbgrader": {
     "cell_type": "markdown",
     "checksum": "5a72d0726936726b8094a1efff937652",
     "grade": false,
     "grade_id": "cell-caee8a6b57ef3c3f",
     "locked": true,
     "schema_version": 3,
     "solution": false,
     "task": false
    }
   },
   "source": [
    "# Review Weeks 1,2,3 material and write a half a page to one page summary. You cannot copy notes you have to write your own understanding of the topics presented."
   ]
  },
  {
   "cell_type": "markdown",
   "id": "b050a92e",
   "metadata": {
    "deletable": false,
    "nbgrader": {
     "cell_type": "markdown",
     "checksum": "333a5d9010325698920268a64127ffde",
     "grade": true,
     "grade_id": "cell-2542bebfdb730a12",
     "locked": false,
     "points": 0,
     "schema_version": 3,
     "solution": true,
     "task": false
    }
   },
   "source": [
    "YOUR ANSWER HERE"
   ]
  },
  {
   "cell_type": "markdown",
   "id": "8e3ecdbe",
   "metadata": {
    "deletable": false,
    "editable": false,
    "nbgrader": {
     "cell_type": "markdown",
     "checksum": "2686d4c3f48a29765be0e6d9741e82e9",
     "grade": false,
     "grade_id": "cell-9a53654861ee93d5",
     "locked": true,
     "schema_version": 3,
     "solution": false,
     "task": false
    }
   },
   "source": [
    "# Review Week 4 material and write a half a page to one page summary. You cannot copy notes you have to write your own understanding of the topics presented."
   ]
  },
  {
   "cell_type": "markdown",
   "id": "3660b615",
   "metadata": {
    "deletable": false,
    "nbgrader": {
     "cell_type": "markdown",
     "checksum": "a3df01b18236384bc337b7e00f21ea61",
     "grade": true,
     "grade_id": "cell-3dae899fcce9041c",
     "locked": false,
     "points": 0,
     "schema_version": 3,
     "solution": true,
     "task": false
    }
   },
   "source": [
    "YOUR ANSWER HERE"
   ]
  },
  {
   "cell_type": "markdown",
   "id": "3567f046",
   "metadata": {
    "deletable": false,
    "editable": false,
    "nbgrader": {
     "cell_type": "markdown",
     "checksum": "a4adae32eec2a9f733a1d417b2458cae",
     "grade": false,
     "grade_id": "cell-8728acffa880b488",
     "locked": true,
     "schema_version": 3,
     "solution": false,
     "task": false
    }
   },
   "source": [
    "# Review Week 5 material and write a half a page to one page summary. You cannot copy notes you have to write your own understanding of the topics presented."
   ]
  },
  {
   "cell_type": "markdown",
   "id": "dfe04f7e",
   "metadata": {
    "deletable": false,
    "nbgrader": {
     "cell_type": "markdown",
     "checksum": "db19270ed4ab53619cf88854e93c59ad",
     "grade": true,
     "grade_id": "cell-167471e85408768b",
     "locked": false,
     "points": 0,
     "schema_version": 3,
     "solution": true,
     "task": false
    }
   },
   "source": [
    "YOUR ANSWER HERE"
   ]
  },
  {
   "cell_type": "markdown",
   "id": "8490dd35",
   "metadata": {
    "deletable": false,
    "editable": false,
    "nbgrader": {
     "cell_type": "markdown",
     "checksum": "3b4564a37b4044674cbeb9a8a6c2d579",
     "grade": false,
     "grade_id": "cell-6816b314ce008d6f",
     "locked": true,
     "schema_version": 3,
     "solution": false,
     "task": false
    }
   },
   "source": [
    "# Review Week 6 material and write a half a page to one page summary. You cannot copy notes you have to write your own understanding of the topics presented."
   ]
  },
  {
   "cell_type": "markdown",
   "id": "b4b78ef5",
   "metadata": {
    "deletable": false,
    "nbgrader": {
     "cell_type": "markdown",
     "checksum": "62e8c34f921007c32d59d64711e674b2",
     "grade": true,
     "grade_id": "cell-a194ef439dda86c2",
     "locked": false,
     "points": 0,
     "schema_version": 3,
     "solution": true,
     "task": false
    }
   },
   "source": [
    "YOUR ANSWER HERE"
   ]
  },
  {
   "cell_type": "markdown",
   "id": "e175b802",
   "metadata": {
    "deletable": false,
    "editable": false,
    "nbgrader": {
     "cell_type": "markdown",
     "checksum": "16fbd457c5790b336e4559c91958f357",
     "grade": false,
     "grade_id": "cell-b66f173a70891e89",
     "locked": true,
     "schema_version": 3,
     "solution": false,
     "task": false
    }
   },
   "source": [
    "# Review Week 7 material and write a half a page to one page summary. You cannot copy notes you have to write your own understanding of the topics presented."
   ]
  },
  {
   "cell_type": "markdown",
   "id": "a93a6286",
   "metadata": {
    "deletable": false,
    "nbgrader": {
     "cell_type": "markdown",
     "checksum": "aacd5bc3464782b04886f673899b111c",
     "grade": true,
     "grade_id": "cell-a9c1e8fff192ac31",
     "locked": false,
     "points": 0,
     "schema_version": 3,
     "solution": true,
     "task": false
    }
   },
   "source": [
    "YOUR ANSWER HERE"
   ]
  },
  {
   "cell_type": "markdown",
   "id": "dff3f541",
   "metadata": {
    "deletable": false,
    "editable": false,
    "nbgrader": {
     "cell_type": "markdown",
     "checksum": "51c67785c538e7fb08f9e11fafc0df15",
     "grade": false,
     "grade_id": "cell-b0446a097929151d",
     "locked": true,
     "schema_version": 3,
     "solution": false,
     "task": false
    }
   },
   "source": [
    "# Review Week 8 material and write a half a page to one page summary. You cannot copy notes you have to write your own understanding of the topics presented."
   ]
  },
  {
   "cell_type": "markdown",
   "id": "e4a362a1",
   "metadata": {
    "deletable": false,
    "nbgrader": {
     "cell_type": "markdown",
     "checksum": "160d43bf7840c3a4edf6e46f288aae43",
     "grade": true,
     "grade_id": "cell-b0c4df09eee97ca2",
     "locked": false,
     "points": 0,
     "schema_version": 3,
     "solution": true,
     "task": false
    }
   },
   "source": [
    "YOUR ANSWER HERE"
   ]
  },
  {
   "cell_type": "markdown",
   "id": "40ffab11",
   "metadata": {
    "deletable": false,
    "editable": false,
    "nbgrader": {
     "cell_type": "markdown",
     "checksum": "ec540dd36092041df9fc6357b56e7d0e",
     "grade": false,
     "grade_id": "cell-f25f52b506bcc5f9",
     "locked": true,
     "schema_version": 3,
     "solution": false,
     "task": false
    }
   },
   "source": [
    "# Review Week 9 material and write a half a page to one page summary. You cannot copy notes you have to write your own understanding of the topics presented."
   ]
  },
  {
   "cell_type": "markdown",
   "id": "fe086feb",
   "metadata": {
    "deletable": false,
    "nbgrader": {
     "cell_type": "markdown",
     "checksum": "091401652a109901fa293293e9e7ba88",
     "grade": true,
     "grade_id": "cell-eae3b889fe1f2366",
     "locked": false,
     "points": 0,
     "schema_version": 3,
     "solution": true,
     "task": false
    }
   },
   "source": [
    "YOUR ANSWER HERE"
   ]
  },
  {
   "cell_type": "markdown",
   "id": "c55ed745",
   "metadata": {
    "deletable": false,
    "editable": false,
    "nbgrader": {
     "cell_type": "markdown",
     "checksum": "72d38b1f7195f0fd46aa3e34a6214956",
     "grade": false,
     "grade_id": "cell-418e78e823dde813",
     "locked": true,
     "schema_version": 3,
     "solution": false,
     "task": false
    }
   },
   "source": [
    "# Review Week 10 material and write a half a page to one page summary. You cannot copy notes you have to write your own understanding of the topics presented."
   ]
  },
  {
   "cell_type": "markdown",
   "id": "9688084e",
   "metadata": {
    "deletable": false,
    "nbgrader": {
     "cell_type": "markdown",
     "checksum": "b882969dbfaa6992b738058ff730306b",
     "grade": true,
     "grade_id": "cell-dc8ac759a42e8f74",
     "locked": false,
     "points": 0,
     "schema_version": 3,
     "solution": true,
     "task": false
    }
   },
   "source": [
    "YOUR ANSWER HERE"
   ]
  },
  {
   "cell_type": "markdown",
   "id": "dd2ad485",
   "metadata": {
    "deletable": false,
    "editable": false,
    "nbgrader": {
     "cell_type": "markdown",
     "checksum": "b2a0c164e7e3385eadf488964206e907",
     "grade": false,
     "grade_id": "cell-ac8b26bd3afe1a51",
     "locked": true,
     "schema_version": 3,
     "solution": false,
     "task": false
    }
   },
   "source": [
    "# Review Week 11 material and write a half a page to one page summary. You cannot copy notes you have to write your own understanding of the topics presented."
   ]
  },
  {
   "cell_type": "markdown",
   "id": "bfaebef0",
   "metadata": {
    "deletable": false,
    "nbgrader": {
     "cell_type": "markdown",
     "checksum": "6dc42f1770d3ae179d421dd23fe268e1",
     "grade": true,
     "grade_id": "cell-8bb273eb285adb21",
     "locked": false,
     "points": 0,
     "schema_version": 3,
     "solution": true,
     "task": false
    }
   },
   "source": [
    "YOUR ANSWER HERE"
   ]
  }
 ],
 "metadata": {
  "kernelspec": {
   "display_name": "Python 3 (ipykernel)",
   "language": "python",
   "name": "python3"
  },
  "language_info": {
   "codemirror_mode": {
    "name": "ipython",
    "version": 3
   },
   "file_extension": ".py",
   "mimetype": "text/x-python",
   "name": "python",
   "nbconvert_exporter": "python",
   "pygments_lexer": "ipython3",
   "version": "3.9.12"
  }
 },
 "nbformat": 4,
 "nbformat_minor": 5
}
