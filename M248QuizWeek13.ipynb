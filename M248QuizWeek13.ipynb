{
 "cells": [
  {
   "cell_type": "markdown",
   "metadata": {
    "deletable": false,
    "editable": false,
    "nbgrader": {
     "cell_type": "markdown",
     "checksum": "e50f04b0436417d12d3d7cf96bddfabe",
     "grade": false,
     "grade_id": "cell-ba0f2711f4bfc96e",
     "locked": true,
     "schema_version": 3,
     "solution": false,
     "task": false
    }
   },
   "source": [
    "## 1. Research: List as many properties and applications of Vandermonde's Matrix as you can."
   ]
  },
  {
   "cell_type": "markdown",
   "metadata": {
    "deletable": false,
    "nbgrader": {
     "cell_type": "markdown",
     "checksum": "f2fab94b3e859fc99b1aa90c2493cb29",
     "grade": true,
     "grade_id": "cell-0fe370df9b8e166b",
     "locked": false,
     "points": 0,
     "schema_version": 3,
     "solution": true,
     "task": false
    }
   },
   "source": [
    "YOUR ANSWER HERE"
   ]
  },
  {
   "cell_type": "markdown",
   "metadata": {
    "deletable": false,
    "editable": false,
    "nbgrader": {
     "cell_type": "markdown",
     "checksum": "2ddd2f1cf00b373dc6ca959d332e2d28",
     "grade": false,
     "grade_id": "cell-63e8e5b32bf4cb3c",
     "locked": true,
     "schema_version": 3,
     "solution": false,
     "task": false
    }
   },
   "source": [
    "# 2. List and explain TEN things you learned this week and FIVE things you did not understand or you want to learn more about."
   ]
  },
  {
   "cell_type": "markdown",
   "metadata": {
    "deletable": false,
    "nbgrader": {
     "cell_type": "markdown",
     "checksum": "0ab30380c42edf32dc8b45b3d1997c91",
     "grade": true,
     "grade_id": "cell-5d83cf98ba742dae",
     "locked": false,
     "points": 0,
     "schema_version": 3,
     "solution": true,
     "task": false
    }
   },
   "source": [
    "YOUR ANSWER HERE"
   ]
  },
  {
   "cell_type": "markdown",
   "metadata": {
    "deletable": false,
    "editable": false,
    "nbgrader": {
     "cell_type": "markdown",
     "checksum": "abcc7dbfbcd7d202e1b871580e5ec5ae",
     "grade": false,
     "grade_id": "cell-f4b653a5f407cc12",
     "locked": true,
     "schema_version": 3,
     "solution": false,
     "task": false
    }
   },
   "source": [
    "## 2. **Interpolating Polynomial**\n",
    "\n",
    "Consider the following data set $(0,-5), (1, -3), (-1, -15), (2, 39), (-2, -9)$. Find the interpolating polynomial using \n",
    "\n",
    "a. Vandermonde's matrix method.\n",
    "\n",
    "b. Newton's method.\n",
    "\n",
    "c. (Program) Graph the interpolating polynomial and highlight the interpolating points."
   ]
  },
  {
   "cell_type": "markdown",
   "metadata": {
    "deletable": false,
    "nbgrader": {
     "cell_type": "markdown",
     "checksum": "ce425d867e06dc52e9ab80d5ce8fb5f6",
     "grade": true,
     "grade_id": "cell-19aff685be38c7f4",
     "locked": false,
     "points": 0,
     "schema_version": 3,
     "solution": true,
     "task": false
    }
   },
   "source": [
    "YOUR ANSWER HERE"
   ]
  },
  {
   "cell_type": "code",
   "execution_count": null,
   "metadata": {
    "deletable": false,
    "nbgrader": {
     "cell_type": "code",
     "checksum": "e4a72fcd29434a994fd5fb06d369a5d2",
     "grade": true,
     "grade_id": "cell-fbc6ad8423c59b6f",
     "locked": false,
     "points": 0,
     "schema_version": 3,
     "solution": true,
     "task": false
    }
   },
   "outputs": [],
   "source": [
    "# YOUR CODE HERE\n",
    "raise NotImplementedError()"
   ]
  },
  {
   "cell_type": "markdown",
   "metadata": {
    "deletable": false,
    "editable": false,
    "nbgrader": {
     "cell_type": "markdown",
     "checksum": "8d826465d179f52138ebb83d10b7b7f9",
     "grade": false,
     "grade_id": "cell-678a1e2002a1b641",
     "locked": true,
     "schema_version": 3,
     "solution": false,
     "task": false
    }
   },
   "source": [
    "## 4. Taylor Polynomial: Consider the function $f(x)=\\sin(2x)$. \n",
    "\n",
    "a. Find the Taylor polynomial of degree 5 that approximates this function near $x_0=0$.\n",
    "\n",
    "b. Estimate the error of the approximation at $x=5$. What is the *exact* error at this point?\n",
    "\n",
    "c. Write a program that plots a graph showing, $f$, the approximating Taylor polynomial of degree 5, and the error at the point $x=5$."
   ]
  },
  {
   "cell_type": "markdown",
   "metadata": {
    "deletable": false,
    "nbgrader": {
     "cell_type": "markdown",
     "checksum": "391b17d095e7a46111deb6155bae9329",
     "grade": true,
     "grade_id": "cell-1699618bc8876171",
     "locked": false,
     "points": 0,
     "schema_version": 3,
     "solution": true,
     "task": false
    }
   },
   "source": [
    "YOUR ANSWER HERE"
   ]
  },
  {
   "cell_type": "code",
   "execution_count": null,
   "metadata": {
    "deletable": false,
    "nbgrader": {
     "cell_type": "code",
     "checksum": "f203b8bb4bacfe5753bc07908a6363bd",
     "grade": true,
     "grade_id": "cell-a2e3f0cdb365ada3",
     "locked": false,
     "points": 0,
     "schema_version": 3,
     "solution": true,
     "task": false
    }
   },
   "outputs": [],
   "source": [
    "# YOUR CODE HERE\n",
    "raise NotImplementedError()"
   ]
  },
  {
   "cell_type": "markdown",
   "metadata": {
    "deletable": false,
    "editable": false,
    "nbgrader": {
     "cell_type": "markdown",
     "checksum": "35b2be78c710e8c6250989253d0e7176",
     "grade": false,
     "grade_id": "cell-ec05f68a187d4631",
     "locked": true,
     "schema_version": 3,
     "solution": false,
     "task": false
    }
   },
   "source": [
    "## 6. Consider an $(n+1)$-times continuously differentiable function $f$. Explain the difference between approximating $f$ with a Taylor polynomial of degree $n$ ($T_n(x)$) and approximating $f$ with an interpolating polynomial of degree $n$ ($P_n(x)$)."
   ]
  },
  {
   "cell_type": "markdown",
   "metadata": {
    "deletable": false,
    "nbgrader": {
     "cell_type": "markdown",
     "checksum": "a471ada00a62c58d94becfbfc551f7b0",
     "grade": true,
     "grade_id": "cell-d0c4fcd2119c4ed9",
     "locked": false,
     "points": 0,
     "schema_version": 3,
     "solution": true,
     "task": false
    }
   },
   "source": [
    "YOUR ANSWER HERE"
   ]
  },
  {
   "cell_type": "code",
   "execution_count": null,
   "metadata": {},
   "outputs": [],
   "source": []
  }
 ],
 "metadata": {
  "kernelspec": {
   "display_name": "Python 3 (ipykernel)",
   "language": "python",
   "name": "python3"
  },
  "language_info": {
   "codemirror_mode": {
    "name": "ipython",
    "version": 3
   },
   "file_extension": ".py",
   "mimetype": "text/x-python",
   "name": "python",
   "nbconvert_exporter": "python",
   "pygments_lexer": "ipython3",
   "version": "3.9.12"
  }
 },
 "nbformat": 4,
 "nbformat_minor": 4
}
