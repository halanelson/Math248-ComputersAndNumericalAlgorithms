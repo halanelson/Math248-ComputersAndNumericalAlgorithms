{
 "cells": [
  {
   "cell_type": "markdown",
   "metadata": {
    "deletable": false,
    "editable": false,
    "nbgrader": {
     "cell_type": "markdown",
     "checksum": "3cc4422ef47a3aed2fcacab301dc330f",
     "grade": false,
     "grade_id": "cell-037488c1ef2d3197",
     "locked": true,
     "schema_version": 3,
     "solution": false,
     "task": false
    }
   },
   "source": [
    "# List and explain TEN things you learned this week and FIVE things you still need to learn more about or are curious about."
   ]
  },
  {
   "cell_type": "markdown",
   "metadata": {
    "deletable": false,
    "nbgrader": {
     "cell_type": "markdown",
     "checksum": "ce689ee8051f70884e036a74c3165c24",
     "grade": true,
     "grade_id": "cell-266b572ff7b7d4d3",
     "locked": false,
     "points": 0,
     "schema_version": 3,
     "solution": true,
     "task": false
    }
   },
   "source": [
    "YOUR ANSWER HERE"
   ]
  },
  {
   "cell_type": "markdown",
   "metadata": {
    "deletable": false,
    "editable": false,
    "nbgrader": {
     "cell_type": "markdown",
     "checksum": "b83e69ac1d4eb144c8f3906783f05ced",
     "grade": false,
     "grade_id": "cell-c5800cebe8a66cc1",
     "locked": true,
     "schema_version": 3,
     "solution": false,
     "task": false
    }
   },
   "source": [
    "## 1. What is a supercomputer? What is Cray supercomputer? What is the most powerful supercomputer currently present?"
   ]
  },
  {
   "cell_type": "markdown",
   "metadata": {
    "deletable": false,
    "nbgrader": {
     "cell_type": "markdown",
     "checksum": "566b7c15f87fabf370419db77836c561",
     "grade": true,
     "grade_id": "cell-766726a66707eb48",
     "locked": false,
     "points": 0,
     "schema_version": 3,
     "solution": true,
     "task": false
    }
   },
   "source": [
    "YOUR ANSWER HERE"
   ]
  },
  {
   "cell_type": "markdown",
   "metadata": {
    "deletable": false,
    "editable": false,
    "nbgrader": {
     "cell_type": "markdown",
     "checksum": "b21a972f65231a46d1ff64dfdf0ef0dc",
     "grade": false,
     "grade_id": "cell-c5800cebe8a66cc2",
     "locked": true,
     "schema_version": 3,
     "solution": false,
     "task": false
    }
   },
   "source": [
    "## 2. Suppose you are employed to design a digital watch. How many bits will you need to store the time? Justify your answer."
   ]
  },
  {
   "cell_type": "markdown",
   "metadata": {
    "deletable": false,
    "nbgrader": {
     "cell_type": "markdown",
     "checksum": "d7ef43baa95b19756d277751e90e02a4",
     "grade": true,
     "grade_id": "cell-c276fdc3608bb880",
     "locked": false,
     "points": 0,
     "schema_version": 3,
     "solution": true,
     "task": false
    }
   },
   "source": [
    "YOUR ANSWER HERE"
   ]
  },
  {
   "cell_type": "markdown",
   "metadata": {
    "deletable": false,
    "editable": false,
    "nbgrader": {
     "cell_type": "markdown",
     "checksum": "be021a71b463e25edd32b28d078cfffe",
     "grade": false,
     "grade_id": "cell-c5800cebe8a66cc123",
     "locked": true,
     "schema_version": 3,
     "solution": false,
     "task": false
    }
   },
   "source": [
    "## 3. Given a binary machine that reserves $4 bytes$ for an integer (recall that 1 byte=8 bits), find the range of integers that can be represented. How many numbers are those?"
   ]
  },
  {
   "cell_type": "markdown",
   "metadata": {
    "deletable": false,
    "nbgrader": {
     "cell_type": "markdown",
     "checksum": "89b18d8e8f28caf7bbe4d8eae5cdf986",
     "grade": true,
     "grade_id": "cell-187995562c99a04d",
     "locked": false,
     "points": 0,
     "schema_version": 3,
     "solution": true,
     "task": false
    }
   },
   "source": [
    "YOUR ANSWER HERE"
   ]
  },
  {
   "cell_type": "markdown",
   "metadata": {
    "deletable": false,
    "editable": false,
    "nbgrader": {
     "cell_type": "markdown",
     "checksum": "be89dae9aa1ba2c77f001f1a2008a965",
     "grade": false,
     "grade_id": "cell-c5800cebe8a66cc3",
     "locked": true,
     "schema_version": 3,
     "solution": false,
     "task": false
    }
   },
   "source": [
    "## 4. Express $0.25$ in floating point notation (use  $6$ bit mantissa, and decimal notation for the exponent)."
   ]
  },
  {
   "cell_type": "markdown",
   "metadata": {
    "deletable": false,
    "nbgrader": {
     "cell_type": "markdown",
     "checksum": "4d1fffeae28819c9f0408a841591fb8e",
     "grade": true,
     "grade_id": "cell-35f48c17fe410d9e",
     "locked": false,
     "points": 0,
     "schema_version": 3,
     "solution": true,
     "task": false
    }
   },
   "source": [
    "YOUR ANSWER HERE"
   ]
  },
  {
   "cell_type": "markdown",
   "metadata": {
    "deletable": false,
    "editable": false,
    "nbgrader": {
     "cell_type": "markdown",
     "checksum": "d000da4ed3121e8049eff05d4f5adc8f",
     "grade": false,
     "grade_id": "cell-c5800cebe8a66cc5",
     "locked": true,
     "schema_version": 3,
     "solution": false,
     "task": false
    }
   },
   "source": [
    "## 5. Suppose $x = (13)_{10}$. What is the floating point representation for $x$ on a binary computer with a 3-bit mantissa and 3-bit exponent?"
   ]
  },
  {
   "cell_type": "markdown",
   "metadata": {
    "deletable": false,
    "nbgrader": {
     "cell_type": "markdown",
     "checksum": "9d26a19781e239d97e537ccabcfcc786",
     "grade": true,
     "grade_id": "cell-c1fdc50b5306e742",
     "locked": false,
     "points": 0,
     "schema_version": 3,
     "solution": true,
     "task": false
    }
   },
   "source": [
    "YOUR ANSWER HERE"
   ]
  },
  {
   "cell_type": "markdown",
   "metadata": {
    "deletable": false,
    "editable": false,
    "nbgrader": {
     "cell_type": "markdown",
     "checksum": "8d30c71f94596fecd8013894d96a0349",
     "grade": false,
     "grade_id": "cell-c5800cebe8a66cc1333",
     "locked": true,
     "schema_version": 3,
     "solution": false,
     "task": false
    }
   },
   "source": [
    "## 6. How does a machine employing single precision format represent the number -285.75?"
   ]
  },
  {
   "cell_type": "markdown",
   "metadata": {
    "deletable": false,
    "nbgrader": {
     "cell_type": "markdown",
     "checksum": "87dab43f4b287cb115857bb855031f21",
     "grade": true,
     "grade_id": "cell-6bafca89f0979098",
     "locked": false,
     "points": 0,
     "schema_version": 3,
     "solution": true,
     "task": false
    }
   },
   "source": [
    "YOUR ANSWER HERE"
   ]
  },
  {
   "cell_type": "markdown",
   "metadata": {
    "deletable": false,
    "editable": false,
    "nbgrader": {
     "cell_type": "markdown",
     "checksum": "c440a007a00ddea3d67c4cd642f0a46b",
     "grade": false,
     "grade_id": "cell-c5800cebe8a66cc12",
     "locked": true,
     "schema_version": 3,
     "solution": false,
     "task": false
    }
   },
   "source": [
    "## 7. Find the absolute and relative round-off errors incurred when $(23)_{10}$ is approximated by a floating point number with a 3-bit mantissa in base-2."
   ]
  },
  {
   "cell_type": "markdown",
   "metadata": {
    "deletable": false,
    "nbgrader": {
     "cell_type": "markdown",
     "checksum": "a731e1f6273778aee8931b392601700a",
     "grade": true,
     "grade_id": "cell-6d5ac34cf99b0e66",
     "locked": false,
     "points": 0,
     "schema_version": 3,
     "solution": true,
     "task": false
    }
   },
   "source": [
    "YOUR ANSWER HERE"
   ]
  },
  {
   "cell_type": "markdown",
   "metadata": {
    "deletable": false,
    "editable": false,
    "nbgrader": {
     "cell_type": "markdown",
     "checksum": "23183897c24a0185f75dfc539d671e8a",
     "grade": false,
     "grade_id": "cell-c5800cebe8a66cc23",
     "locked": true,
     "schema_version": 3,
     "solution": false,
     "task": false
    }
   },
   "source": [
    "## 8. Write the floating point representation for the binary number $0.00011011$ using a $4$-bit mantissa then write the way it will be stored in the machine (use $5$ bit exponent)."
   ]
  },
  {
   "cell_type": "markdown",
   "metadata": {
    "deletable": false,
    "nbgrader": {
     "cell_type": "markdown",
     "checksum": "8f3434844c38bdf0222a8e633bb6956d",
     "grade": true,
     "grade_id": "cell-6108817e9ec874bd",
     "locked": false,
     "points": 0,
     "schema_version": 3,
     "solution": true,
     "task": false
    }
   },
   "source": [
    "YOUR ANSWER HERE"
   ]
  },
  {
   "cell_type": "markdown",
   "metadata": {
    "deletable": false,
    "editable": false,
    "nbgrader": {
     "cell_type": "markdown",
     "checksum": "9ce54e5903e0a64491b69150bbfd87d4",
     "grade": false,
     "grade_id": "cell-c5800cebe8a66cc134",
     "locked": true,
     "schema_version": 3,
     "solution": false,
     "task": false
    }
   },
   "source": [
    "## 9. Compute the largest floating point number that Python can represent. Do a google search to check your answer."
   ]
  },
  {
   "cell_type": "markdown",
   "metadata": {
    "deletable": false,
    "nbgrader": {
     "cell_type": "markdown",
     "checksum": "6d696833690213fe97ad32ce2c5f8fdc",
     "grade": true,
     "grade_id": "cell-a408d644723281d0",
     "locked": false,
     "points": 0,
     "schema_version": 3,
     "solution": true,
     "task": false
    }
   },
   "source": [
    "YOUR ANSWER HERE"
   ]
  },
  {
   "cell_type": "markdown",
   "metadata": {
    "deletable": false,
    "editable": false,
    "nbgrader": {
     "cell_type": "markdown",
     "checksum": "9de81f79d6617d803314ef75fac4723f",
     "grade": false,
     "grade_id": "cell-c5800cebe8a66cc198",
     "locked": true,
     "schema_version": 3,
     "solution": false,
     "task": false
    }
   },
   "source": [
    "## 10. Suppose you have a binary machine that allows 4 bit mantissa, and exponents $m=-1, 0, 1$. Compute all the floating point numbers that this machine represents. How would this machine store the real number $e$? What is the relative error?"
   ]
  },
  {
   "cell_type": "markdown",
   "metadata": {
    "deletable": false,
    "nbgrader": {
     "cell_type": "markdown",
     "checksum": "60cbd7ae5d79ad4320e9c227b42b4117",
     "grade": true,
     "grade_id": "cell-855c2c7f5d1fd517",
     "locked": false,
     "points": 0,
     "schema_version": 3,
     "solution": true,
     "task": false
    }
   },
   "source": [
    "YOUR ANSWER HERE"
   ]
  },
  {
   "cell_type": "markdown",
   "metadata": {
    "deletable": false,
    "editable": false,
    "nbgrader": {
     "cell_type": "markdown",
     "checksum": "8375b8fe1b62c80021a934eaef90f3b0",
     "grade": false,
     "grade_id": "cell-c5800cebe8a66cc167",
     "locked": true,
     "schema_version": 3,
     "solution": false,
     "task": false
    }
   },
   "source": [
    "## 11. IEEE specifications for double precision variables use one bit for the sign, 11 bits for the exponent, and 52 bits for the mantissa. What precision does it have? "
   ]
  },
  {
   "cell_type": "markdown",
   "metadata": {
    "deletable": false,
    "nbgrader": {
     "cell_type": "markdown",
     "checksum": "c1645a7ec47278d62d55a7ed8846b029",
     "grade": true,
     "grade_id": "cell-148c5ee37a5c0842",
     "locked": false,
     "points": 0,
     "schema_version": 3,
     "solution": true,
     "task": false
    }
   },
   "source": [
    "YOUR ANSWER HERE"
   ]
  }
 ],
 "metadata": {
  "kernelspec": {
   "display_name": "Python 3 (ipykernel)",
   "language": "python",
   "name": "python3"
  },
  "language_info": {
   "codemirror_mode": {
    "name": "ipython",
    "version": 3
   },
   "file_extension": ".py",
   "mimetype": "text/x-python",
   "name": "python",
   "nbconvert_exporter": "python",
   "pygments_lexer": "ipython3",
   "version": "3.9.12"
  }
 },
 "nbformat": 4,
 "nbformat_minor": 4
}
