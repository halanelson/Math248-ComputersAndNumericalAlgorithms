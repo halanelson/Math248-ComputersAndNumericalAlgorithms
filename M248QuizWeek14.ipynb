{
 "cells": [
  {
   "cell_type": "markdown",
   "id": "36539a60",
   "metadata": {
    "deletable": false,
    "editable": false,
    "nbgrader": {
     "cell_type": "markdown",
     "checksum": "a43f2b950cc4c4d38b8c75fe6d90e932",
     "grade": false,
     "grade_id": "cell-cc7a0c84e24fecd7",
     "locked": true,
     "schema_version": 3,
     "solution": false,
     "task": false
    }
   },
   "source": [
    "# List TEN things you learned about numerical differentiation and numerical integration and FIVE things you still do not undertsand or are curious to learn more about."
   ]
  },
  {
   "cell_type": "markdown",
   "id": "66a804f4",
   "metadata": {
    "deletable": false,
    "nbgrader": {
     "cell_type": "markdown",
     "checksum": "68a6c55f4d167497a091f4a57c3d3fdf",
     "grade": true,
     "grade_id": "cell-da6ffda241a21b6c",
     "locked": false,
     "points": 0,
     "schema_version": 3,
     "solution": true,
     "task": false
    }
   },
   "source": [
    "YOUR ANSWER HERE"
   ]
  }
 ],
 "metadata": {
  "kernelspec": {
   "display_name": "Python 3 (ipykernel)",
   "language": "python",
   "name": "python3"
  },
  "language_info": {
   "codemirror_mode": {
    "name": "ipython",
    "version": 3
   },
   "file_extension": ".py",
   "mimetype": "text/x-python",
   "name": "python",
   "nbconvert_exporter": "python",
   "pygments_lexer": "ipython3",
   "version": "3.8.5"
  }
 },
 "nbformat": 4,
 "nbformat_minor": 5
}
