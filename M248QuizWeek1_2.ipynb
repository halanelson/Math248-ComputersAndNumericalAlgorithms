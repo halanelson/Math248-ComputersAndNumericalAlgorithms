{
 "cells": [
  {
   "cell_type": "markdown",
   "metadata": {
    "deletable": false,
    "editable": false,
    "nbgrader": {
     "cell_type": "markdown",
     "checksum": "eb508a3db9aa49a5a90ed84c43a3db9d",
     "grade": false,
     "grade_id": "cell-894b44f6e4aa6d89",
     "locked": true,
     "schema_version": 3,
     "solution": false,
     "task": false
    }
   },
   "source": [
    "## 1) List TEN things you learned during Weeks 1 and 2 and FIVE things you still don't understand or are curious and would like to learn about."
   ]
  },
  {
   "cell_type": "markdown",
   "metadata": {
    "deletable": false,
    "nbgrader": {
     "cell_type": "markdown",
     "checksum": "674a04c7b9ac8bbe1af73ec37ad0d3c5",
     "grade": true,
     "grade_id": "cell-2b7b7a3717ed7c28",
     "locked": false,
     "points": 2,
     "schema_version": 3,
     "solution": true,
     "task": false
    }
   },
   "source": []
  },
  {
   "cell_type": "markdown",
   "metadata": {
    "deletable": false,
    "editable": false,
    "nbgrader": {
     "cell_type": "markdown",
     "checksum": "f5a4e240a74d78afb335b8264b09f66f",
     "grade": false,
     "grade_id": "cell-f8652ead18e4e4b4",
     "locked": true,
     "schema_version": 3,
     "solution": false,
     "task": false
    }
   },
   "source": [
    "## 2) Answer the following (cite your references).\n",
    "\n",
    "1.  What is a transistor? Why is it important for building and enhancing\n",
    "    computers?\n",
    "\n",
    "2.  How small is the smallest transistor ever invented?\n",
    "\n",
    "3.  What is a semiconductor? Why is it important for building and\n",
    "    enhancing computers?\n",
    "\n",
    "4.  Why was the development of the RAM revolutionary for the development\n",
    "    of the modern computer?\n",
    "\n",
    "5.  Why is there now so much research about quantum computing?"
   ]
  },
  {
   "cell_type": "markdown",
   "metadata": {
    "deletable": false,
    "nbgrader": {
     "cell_type": "markdown",
     "checksum": "1dd38b104ad5febe74015c3bd45824f9",
     "grade": true,
     "grade_id": "cell-b0950da5a192e035",
     "locked": false,
     "points": 3,
     "schema_version": 3,
     "solution": true,
     "task": false
    }
   },
   "source": []
  },
  {
   "cell_type": "markdown",
   "metadata": {
    "deletable": false,
    "editable": false,
    "nbgrader": {
     "cell_type": "markdown",
     "checksum": "e1f4bff982518f43deffd77da0d2f98f",
     "grade": false,
     "grade_id": "cell-e7685bfd97b1fa0d",
     "locked": true,
     "schema_version": 3,
     "solution": false,
     "task": false
    }
   },
   "source": [
    "# 3) Calculate the following sum analytically $\\sum_{k=6}^{50}k^2$."
   ]
  },
  {
   "cell_type": "markdown",
   "metadata": {
    "deletable": false,
    "nbgrader": {
     "cell_type": "markdown",
     "checksum": "640c9ff9bb9fef172896282cfd741373",
     "grade": true,
     "grade_id": "cell-6ddaee207af6ebab",
     "locked": false,
     "points": 0,
     "schema_version": 3,
     "solution": true,
     "task": false
    }
   },
   "source": [
    "YOUR ANSWER HERE"
   ]
  },
  {
   "cell_type": "markdown",
   "metadata": {
    "deletable": false,
    "editable": false,
    "nbgrader": {
     "cell_type": "markdown",
     "checksum": "9005c1396d19a117483411b931607f19",
     "grade": false,
     "grade_id": "cell-ecc04f9ad599a9e7",
     "locked": true,
     "schema_version": 3,
     "solution": false,
     "task": false
    }
   },
   "source": [
    "## 4) Programming: Write a program that lists all the multiples of 15 greater than −200 and strictly less than 2000."
   ]
  },
  {
   "cell_type": "code",
   "execution_count": null,
   "metadata": {
    "deletable": false,
    "nbgrader": {
     "cell_type": "code",
     "checksum": "9fd756ed357fee4846cabea0de3c8dcb",
     "grade": true,
     "grade_id": "cell-640c6f13e30f6fbb",
     "locked": false,
     "points": 0,
     "schema_version": 3,
     "solution": true,
     "task": false
    }
   },
   "outputs": [],
   "source": [
    "# YOUR CODE HERE\n"
   ]
  },
  {
   "cell_type": "markdown",
   "metadata": {
    "deletable": false,
    "editable": false,
    "nbgrader": {
     "cell_type": "markdown",
     "checksum": "6c090de0dbab0c06dcf6291879e509ec",
     "grade": false,
     "grade_id": "cell-b357592096b88921",
     "locked": true,
     "schema_version": 3,
     "solution": false,
     "task": false
    }
   },
   "source": [
    "## 􏰀5) Programming: Write a program that calculates the sum\n",
    "$$\\sum_{k=-100}^{75}\\frac{k^3-2k}{k^2+2}$$\n",
    "## Can this sum be computed analytically?"
   ]
  },
  {
   "cell_type": "code",
   "execution_count": null,
   "metadata": {
    "deletable": false,
    "nbgrader": {
     "cell_type": "code",
     "checksum": "7f19606987e40fd6eb0b0cfb9c5445de",
     "grade": true,
     "grade_id": "cell-294356bd9b3e974b",
     "locked": false,
     "points": 0,
     "schema_version": 3,
     "solution": true,
     "task": false
    }
   },
   "outputs": [],
   "source": [
    "# YOUR CODE HERE\n"
   ]
  },
  {
   "cell_type": "markdown",
   "metadata": {
    "deletable": false,
    "editable": false,
    "nbgrader": {
     "cell_type": "markdown",
     "checksum": "ac42e04c12e20624d0b5852df5bf4bf6",
     "grade": false,
     "grade_id": "cell-66c1f9def8fc5cb5",
     "locked": true,
     "schema_version": 3,
     "solution": false,
     "task": false
    }
   },
   "source": [
    "## 6) Programming: Write a program that determines whether the sequence \n",
    "$$a_n=\\frac{(\\cos(n))^2}{2^n}$$\n",
    "## converges or diverges. Make two subplots showing the convergence of the sequence, one subplot showing the sequence as a function of n, and the other plotting the sequence on the number line. Label the axes and title your subplots. \n",
    "\n",
    "## What is the limit of this sequence?"
   ]
  },
  {
   "cell_type": "code",
   "execution_count": null,
   "metadata": {
    "deletable": false,
    "nbgrader": {
     "cell_type": "code",
     "checksum": "ccc69d797893c2e8f3a88893030af799",
     "grade": true,
     "grade_id": "cell-17b78fde82a13eb6",
     "locked": false,
     "points": 0,
     "schema_version": 3,
     "solution": true,
     "task": false
    }
   },
   "outputs": [],
   "source": [
    "# YOUR CODE HERE\n",
    "raise NotImplementedError()"
   ]
  }
 ],
 "metadata": {
  "kernelspec": {
   "display_name": "Python 3 (ipykernel)",
   "language": "python",
   "name": "python3"
  },
  "language_info": {
   "codemirror_mode": {
    "name": "ipython",
    "version": 3
   },
   "file_extension": ".py",
   "mimetype": "text/x-python",
   "name": "python",
   "nbconvert_exporter": "python",
   "pygments_lexer": "ipython3",
   "version": "3.9.12"
  }
 },
 "nbformat": 4,
 "nbformat_minor": 4
}
