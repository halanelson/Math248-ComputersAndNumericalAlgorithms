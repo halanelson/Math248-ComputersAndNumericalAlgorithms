{
 "cells": [
  {
   "cell_type": "markdown",
   "metadata": {},
   "source": [
    "# First Week In Math 248: Markdown cells (headers, lists, bold, italics, latex) and Code cells\n",
    "\n",
    "![image](JMUlogo.png)\n",
    "\n",
    "## First we learn about using Markdown \n",
    "\n",
    "**Jupyter Notebooks organise our work**\n",
    "\n",
    "*We might or might not code today*\n",
    "\n",
    "1. First numbered list item\n",
    "\n",
    "2. Second list item\n",
    "\n",
    "- First unordered list item\n",
    "\n",
    "- Second unordered list item\n",
    "\n",
    "This is text that I write to explain what I am doing. \n",
    "\n",
    "## Markdown understands latex\n",
    "\n",
    "Inline formulas go between dollar signs: $x^2-7=\\frac{y}{2}$. Then I keep going. \n",
    "\n",
    "Formulas that are on their own line and centered, place them between two dollar signs:\n",
    "\n",
    "$$e^x=\\sum_{n=0}^\\infty\\frac{x^n}{n!}$$"
   ]
  },
  {
   "cell_type": "code",
   "execution_count": 2,
   "metadata": {},
   "outputs": [
    {
     "name": "stdout",
     "output_type": "stream",
     "text": [
      "This is new\n",
      "\n",
      "I am ready to learn mathematical modeling and Python 3\n"
     ]
    }
   ],
   "source": [
    "print('This is new\\n\\nI am ready to learn mathematical modeling and Python 3')"
   ]
  },
  {
   "cell_type": "code",
   "execution_count": null,
   "metadata": {},
   "outputs": [],
   "source": []
  }
 ],
 "metadata": {
  "kernelspec": {
   "display_name": "Python 3",
   "language": "python",
   "name": "python3"
  },
  "language_info": {
   "codemirror_mode": {
    "name": "ipython",
    "version": 3
   },
   "file_extension": ".py",
   "mimetype": "text/x-python",
   "name": "python",
   "nbconvert_exporter": "python",
   "pygments_lexer": "ipython3",
   "version": "3.8.5"
  }
 },
 "nbformat": 4,
 "nbformat_minor": 4
}
