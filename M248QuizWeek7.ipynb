{
 "cells": [
  {
   "cell_type": "markdown",
   "metadata": {
    "deletable": false,
    "editable": false,
    "nbgrader": {
     "cell_type": "markdown",
     "checksum": "a6919835e27675199704b57a0be13401",
     "grade": false,
     "grade_id": "cell-3204c16947221f7e",
     "locked": true,
     "schema_version": 3,
     "solution": false,
     "task": false
    }
   },
   "source": [
    "## List TEN things you learned during Week 8 and FIVE things you still don't understand or are curious and would like to learn more about."
   ]
  },
  {
   "cell_type": "markdown",
   "metadata": {
    "deletable": false,
    "nbgrader": {
     "cell_type": "markdown",
     "checksum": "5d804d1a5f316a65a8ff92a2ecbd6249",
     "grade": true,
     "grade_id": "cell-3b10c39adfd43019",
     "locked": false,
     "points": 0,
     "schema_version": 3,
     "solution": true,
     "task": false
    }
   },
   "source": [
    "YOUR ANSWER HERE"
   ]
  },
  {
   "cell_type": "markdown",
   "metadata": {
    "deletable": false,
    "editable": false,
    "nbgrader": {
     "cell_type": "markdown",
     "checksum": "061daf7a11b8fde61e036ce706ddc588",
     "grade": false,
     "grade_id": "cell-2b178703412817c8",
     "locked": true,
     "schema_version": 3,
     "solution": false,
     "task": false
    }
   },
   "source": [
    "## Research: What are the commonly used base number systems and what are they useful for?"
   ]
  },
  {
   "cell_type": "markdown",
   "metadata": {
    "deletable": false,
    "nbgrader": {
     "cell_type": "markdown",
     "checksum": "601ec414b58592166c6adec1af7c5309",
     "grade": true,
     "grade_id": "cell-652c18e4fe23d3b2",
     "locked": false,
     "points": 0,
     "schema_version": 3,
     "solution": true,
     "task": false
    }
   },
   "source": [
    "YOUR ANSWER HERE"
   ]
  },
  {
   "cell_type": "markdown",
   "metadata": {
    "deletable": false,
    "editable": false,
    "nbgrader": {
     "cell_type": "markdown",
     "checksum": "9084242e2b47ed52c63ffb239bb94ffb",
     "grade": false,
     "grade_id": "cell-2b178703412817c81",
     "locked": true,
     "schema_version": 3,
     "solution": false,
     "task": false
    }
   },
   "source": [
    "## Express the following numbers in decimal form then verify your answers using the base conversion programs worked in class. Show your work:\n",
    "\n",
    "1. $(2570.021)_8$\n",
    "2. $(0.111222)_3$\n",
    "3. $(BC123.A)_{16}$"
   ]
  },
  {
   "cell_type": "markdown",
   "metadata": {
    "deletable": false,
    "nbgrader": {
     "cell_type": "markdown",
     "checksum": "36c7d6cbbdf00a449a1c7292ecd9b346",
     "grade": true,
     "grade_id": "cell-81d78d3e24f26a6e",
     "locked": false,
     "points": 0,
     "schema_version": 3,
     "solution": true,
     "task": false
    }
   },
   "source": [
    "YOUR ANSWER HERE"
   ]
  },
  {
   "cell_type": "markdown",
   "metadata": {
    "deletable": false,
    "editable": false,
    "nbgrader": {
     "cell_type": "markdown",
     "checksum": "06ea327df954e94a446cfa2e0c6edd2a",
     "grade": false,
     "grade_id": "cell-2b178703412817c82",
     "locked": true,
     "schema_version": 3,
     "solution": false,
     "task": false
    }
   },
   "source": [
    "## Express the following decimal numbers in the given base then verify your answers using the base conversion programs worked in class. Show your work:\n",
    "\n",
    "1. $0.25$ in base $2$ (binary).\n",
    "2. $0.6875$ in base $2$ (binary).\n",
    "3. $5512$ in base $14$ (answer: $201A$)."
   ]
  },
  {
   "cell_type": "markdown",
   "metadata": {
    "deletable": false,
    "nbgrader": {
     "cell_type": "markdown",
     "checksum": "3b77f1eaeeaaac025a7b5b2b26db42e8",
     "grade": true,
     "grade_id": "cell-fdd4db7763658bcd",
     "locked": false,
     "points": 0,
     "schema_version": 3,
     "solution": true,
     "task": false
    }
   },
   "source": [
    "YOUR ANSWER HERE"
   ]
  },
  {
   "cell_type": "markdown",
   "metadata": {
    "deletable": false,
    "editable": false,
    "nbgrader": {
     "cell_type": "markdown",
     "checksum": "c81d4188d67f3b045710d6fff685108e",
     "grade": false,
     "grade_id": "cell-2b178703412817c83",
     "locked": true,
     "schema_version": 3,
     "solution": false,
     "task": false
    }
   },
   "source": [
    "## Explain how the successive divisions by the base algorithm works to covert $180$ to base $6$."
   ]
  },
  {
   "cell_type": "markdown",
   "metadata": {
    "deletable": false,
    "nbgrader": {
     "cell_type": "markdown",
     "checksum": "950d708dfce441103fa20ab02ecc5ac6",
     "grade": true,
     "grade_id": "cell-27c527daed99ace8",
     "locked": false,
     "points": 0,
     "schema_version": 3,
     "solution": true,
     "task": false
    }
   },
   "source": [
    "YOUR ANSWER HERE"
   ]
  },
  {
   "cell_type": "markdown",
   "metadata": {
    "deletable": false,
    "editable": false,
    "nbgrader": {
     "cell_type": "markdown",
     "checksum": "80d105bd4a15a8ac49c62f22bedcb241",
     "grade": false,
     "grade_id": "cell-2b178703412817c84",
     "locked": true,
     "schema_version": 3,
     "solution": false,
     "task": false
    }
   },
   "source": [
    "## Give an example of a repeating decimal in one base which terminates in another base."
   ]
  },
  {
   "cell_type": "markdown",
   "metadata": {
    "deletable": false,
    "nbgrader": {
     "cell_type": "markdown",
     "checksum": "08c4fc1cfb1d4e97953f51f7dc1160b5",
     "grade": true,
     "grade_id": "cell-71bd7476f6e80e02",
     "locked": false,
     "points": 0,
     "schema_version": 3,
     "solution": true,
     "task": false
    }
   },
   "source": [
    "YOUR ANSWER HERE"
   ]
  }
 ],
 "metadata": {
  "kernelspec": {
   "display_name": "Python 3 (ipykernel)",
   "language": "python",
   "name": "python3"
  },
  "language_info": {
   "codemirror_mode": {
    "name": "ipython",
    "version": 3
   },
   "file_extension": ".py",
   "mimetype": "text/x-python",
   "name": "python",
   "nbconvert_exporter": "python",
   "pygments_lexer": "ipython3",
   "version": "3.9.12"
  }
 },
 "nbformat": 4,
 "nbformat_minor": 4
}
